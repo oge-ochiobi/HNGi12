{
 "cells": [
  {
   "cell_type": "code",
   "execution_count": 1,
   "id": "86a1dd9e-d395-471a-893b-060a61e84afe",
   "metadata": {},
   "outputs": [],
   "source": [
    "import pandas as pd"
   ]
  },
  {
   "cell_type": "code",
   "execution_count": 2,
   "id": "2e302bff-10fa-4070-b1d6-e7f8037bb27e",
   "metadata": {},
   "outputs": [],
   "source": [
    "import os"
   ]
  },
  {
   "cell_type": "code",
   "execution_count": 3,
   "id": "13a64e1f-b67f-4554-b653-2fe89b8ec6f3",
   "metadata": {},
   "outputs": [
    {
     "data": {
      "text/plain": [
       "'c:\\\\Users\\\\User'"
      ]
     },
     "execution_count": 3,
     "metadata": {},
     "output_type": "execute_result"
    }
   ],
   "source": [
    "os.getcwd()"
   ]
  },
  {
   "cell_type": "code",
   "execution_count": 4,
   "id": "b1103474-5036-43bc-998b-b96fb9f53682",
   "metadata": {},
   "outputs": [],
   "source": [
    "# load data set#\n",
    "df = pd.read_csv('productdata.csv')"
   ]
  },
  {
   "cell_type": "code",
   "execution_count": 5,
   "id": "3870c566-19aa-4c1b-a382-291be59c96f6",
   "metadata": {},
   "outputs": [
    {
     "data": {
      "text/html": [
       "<div>\n",
       "<style scoped>\n",
       "    .dataframe tbody tr th:only-of-type {\n",
       "        vertical-align: middle;\n",
       "    }\n",
       "\n",
       "    .dataframe tbody tr th {\n",
       "        vertical-align: top;\n",
       "    }\n",
       "\n",
       "    .dataframe thead th {\n",
       "        text-align: right;\n",
       "    }\n",
       "</style>\n",
       "<table border=\"1\" class=\"dataframe\">\n",
       "  <thead>\n",
       "    <tr style=\"text-align: right;\">\n",
       "      <th></th>\n",
       "      <th>PRODUCTID</th>\n",
       "      <th>TITLE</th>\n",
       "      <th>BULLET_POINTS</th>\n",
       "      <th>DESCRIPTION</th>\n",
       "      <th>PRODUCTTYPEID</th>\n",
       "      <th>ProductLength</th>\n",
       "    </tr>\n",
       "  </thead>\n",
       "  <tbody>\n",
       "    <tr>\n",
       "      <th>0</th>\n",
       "      <td>1925202</td>\n",
       "      <td>ArtzFolio Tulip Flowers Blackout Curtain for D...</td>\n",
       "      <td>[LUXURIOUS &amp; APPEALING: Beautiful custom-made ...</td>\n",
       "      <td>NaN</td>\n",
       "      <td>1650.0</td>\n",
       "      <td>2125.980000</td>\n",
       "    </tr>\n",
       "    <tr>\n",
       "      <th>1</th>\n",
       "      <td>2673191</td>\n",
       "      <td>Marks &amp; Spencer Girls' Pyjama Sets T86_2561C_N...</td>\n",
       "      <td>[Harry Potter Hedwig Pyjamas (6-16 Yrs),100% c...</td>\n",
       "      <td>NaN</td>\n",
       "      <td>2755.0</td>\n",
       "      <td>393.700000</td>\n",
       "    </tr>\n",
       "    <tr>\n",
       "      <th>2</th>\n",
       "      <td>2765088</td>\n",
       "      <td>PRIKNIK Horn Red Electric Air Horn Compressor ...</td>\n",
       "      <td>[Loud Dual Tone Trumpet Horn, Compatible With ...</td>\n",
       "      <td>Specifications: Color: Red, Material: Aluminiu...</td>\n",
       "      <td>7537.0</td>\n",
       "      <td>748.031495</td>\n",
       "    </tr>\n",
       "    <tr>\n",
       "      <th>3</th>\n",
       "      <td>1594019</td>\n",
       "      <td>ALISHAH Women's Cotton Ankle Length Leggings C...</td>\n",
       "      <td>[Made By 95%cotton and 5% Lycra which gives yo...</td>\n",
       "      <td>AISHAH Women's Lycra Cotton Ankel Leggings. Br...</td>\n",
       "      <td>2996.0</td>\n",
       "      <td>787.401574</td>\n",
       "    </tr>\n",
       "    <tr>\n",
       "      <th>4</th>\n",
       "      <td>283658</td>\n",
       "      <td>The United Empire Loyalists: A Chronicle of th...</td>\n",
       "      <td>NaN</td>\n",
       "      <td>NaN</td>\n",
       "      <td>6112.0</td>\n",
       "      <td>598.424000</td>\n",
       "    </tr>\n",
       "  </tbody>\n",
       "</table>\n",
       "</div>"
      ],
      "text/plain": [
       "   PRODUCTID                                              TITLE  \\\n",
       "0    1925202  ArtzFolio Tulip Flowers Blackout Curtain for D...   \n",
       "1    2673191  Marks & Spencer Girls' Pyjama Sets T86_2561C_N...   \n",
       "2    2765088  PRIKNIK Horn Red Electric Air Horn Compressor ...   \n",
       "3    1594019  ALISHAH Women's Cotton Ankle Length Leggings C...   \n",
       "4     283658  The United Empire Loyalists: A Chronicle of th...   \n",
       "\n",
       "                                       BULLET_POINTS  \\\n",
       "0  [LUXURIOUS & APPEALING: Beautiful custom-made ...   \n",
       "1  [Harry Potter Hedwig Pyjamas (6-16 Yrs),100% c...   \n",
       "2  [Loud Dual Tone Trumpet Horn, Compatible With ...   \n",
       "3  [Made By 95%cotton and 5% Lycra which gives yo...   \n",
       "4                                                NaN   \n",
       "\n",
       "                                         DESCRIPTION  PRODUCTTYPEID  \\\n",
       "0                                                NaN         1650.0   \n",
       "1                                                NaN         2755.0   \n",
       "2  Specifications: Color: Red, Material: Aluminiu...         7537.0   \n",
       "3  AISHAH Women's Lycra Cotton Ankel Leggings. Br...         2996.0   \n",
       "4                                                NaN         6112.0   \n",
       "\n",
       "   ProductLength  \n",
       "0    2125.980000  \n",
       "1     393.700000  \n",
       "2     748.031495  \n",
       "3     787.401574  \n",
       "4     598.424000  "
      ]
     },
     "execution_count": 5,
     "metadata": {},
     "output_type": "execute_result"
    }
   ],
   "source": [
    "# View dataset #\n",
    "df.head()"
   ]
  },
  {
   "cell_type": "code",
   "execution_count": 6,
   "id": "6cc4d901-c0b9-4036-b897-a711036d23fa",
   "metadata": {},
   "outputs": [
    {
     "data": {
      "text/html": [
       "<div>\n",
       "<style scoped>\n",
       "    .dataframe tbody tr th:only-of-type {\n",
       "        vertical-align: middle;\n",
       "    }\n",
       "\n",
       "    .dataframe tbody tr th {\n",
       "        vertical-align: top;\n",
       "    }\n",
       "\n",
       "    .dataframe thead th {\n",
       "        text-align: right;\n",
       "    }\n",
       "</style>\n",
       "<table border=\"1\" class=\"dataframe\">\n",
       "  <thead>\n",
       "    <tr style=\"text-align: right;\">\n",
       "      <th></th>\n",
       "      <th>PRODUCTID</th>\n",
       "      <th>TITLE</th>\n",
       "      <th>BULLET_POINTS</th>\n",
       "      <th>DESCRIPTION</th>\n",
       "      <th>PRODUCTTYPEID</th>\n",
       "      <th>ProductLength</th>\n",
       "    </tr>\n",
       "  </thead>\n",
       "  <tbody>\n",
       "    <tr>\n",
       "      <th>0</th>\n",
       "      <td>1925202</td>\n",
       "      <td>ArtzFolio Tulip Flowers Blackout Curtain for D...</td>\n",
       "      <td>[LUXURIOUS &amp; APPEALING: Beautiful custom-made ...</td>\n",
       "      <td>NaN</td>\n",
       "      <td>1650.0</td>\n",
       "      <td>2125.980000</td>\n",
       "    </tr>\n",
       "    <tr>\n",
       "      <th>1</th>\n",
       "      <td>2673191</td>\n",
       "      <td>Marks &amp; Spencer Girls' Pyjama Sets T86_2561C_N...</td>\n",
       "      <td>[Harry Potter Hedwig Pyjamas (6-16 Yrs),100% c...</td>\n",
       "      <td>NaN</td>\n",
       "      <td>2755.0</td>\n",
       "      <td>393.700000</td>\n",
       "    </tr>\n",
       "    <tr>\n",
       "      <th>2</th>\n",
       "      <td>2765088</td>\n",
       "      <td>PRIKNIK Horn Red Electric Air Horn Compressor ...</td>\n",
       "      <td>[Loud Dual Tone Trumpet Horn, Compatible With ...</td>\n",
       "      <td>Specifications: Color: Red, Material: Aluminiu...</td>\n",
       "      <td>7537.0</td>\n",
       "      <td>748.031495</td>\n",
       "    </tr>\n",
       "    <tr>\n",
       "      <th>3</th>\n",
       "      <td>1594019</td>\n",
       "      <td>ALISHAH Women's Cotton Ankle Length Leggings C...</td>\n",
       "      <td>[Made By 95%cotton and 5% Lycra which gives yo...</td>\n",
       "      <td>AISHAH Women's Lycra Cotton Ankel Leggings. Br...</td>\n",
       "      <td>2996.0</td>\n",
       "      <td>787.401574</td>\n",
       "    </tr>\n",
       "    <tr>\n",
       "      <th>4</th>\n",
       "      <td>283658</td>\n",
       "      <td>The United Empire Loyalists: A Chronicle of th...</td>\n",
       "      <td>NaN</td>\n",
       "      <td>NaN</td>\n",
       "      <td>6112.0</td>\n",
       "      <td>598.424000</td>\n",
       "    </tr>\n",
       "    <tr>\n",
       "      <th>...</th>\n",
       "      <td>...</td>\n",
       "      <td>...</td>\n",
       "      <td>...</td>\n",
       "      <td>...</td>\n",
       "      <td>...</td>\n",
       "      <td>...</td>\n",
       "    </tr>\n",
       "    <tr>\n",
       "      <th>3842</th>\n",
       "      <td>67078</td>\n",
       "      <td>Occupational Health and Safety: International ...</td>\n",
       "      <td>NaN</td>\n",
       "      <td>NaN</td>\n",
       "      <td>6232.0</td>\n",
       "      <td>598.000000</td>\n",
       "    </tr>\n",
       "    <tr>\n",
       "      <th>3843</th>\n",
       "      <td>653247</td>\n",
       "      <td>Le duel introuvable</td>\n",
       "      <td>NaN</td>\n",
       "      <td>NaN</td>\n",
       "      <td>1.0</td>\n",
       "      <td>539.369000</td>\n",
       "    </tr>\n",
       "    <tr>\n",
       "      <th>3844</th>\n",
       "      <td>1783479</td>\n",
       "      <td>ArtToFrames 27x39 Inch Black Picture Frame, Th...</td>\n",
       "      <td>[Comes with 060 Plexi Glass and a a wire hangi...</td>\n",
       "      <td>This black satin frame is our favorite gallery...</td>\n",
       "      <td>1590.0</td>\n",
       "      <td>2900.000000</td>\n",
       "    </tr>\n",
       "    <tr>\n",
       "      <th>3845</th>\n",
       "      <td>770603</td>\n",
       "      <td>The Ascension of Isaiah: translated from the E...</td>\n",
       "      <td>NaN</td>\n",
       "      <td>NaN</td>\n",
       "      <td>6104.0</td>\n",
       "      <td>550.000000</td>\n",
       "    </tr>\n",
       "    <tr>\n",
       "      <th>3846</th>\n",
       "      <td>112393</td>\n",
       "      <td>Crossings: Selected Travel Writings</td>\n",
       "      <td>NaN</td>\n",
       "      <td>NaN</td>\n",
       "      <td>12320.0</td>\n",
       "      <td>600.000000</td>\n",
       "    </tr>\n",
       "  </tbody>\n",
       "</table>\n",
       "<p>3847 rows × 6 columns</p>\n",
       "</div>"
      ],
      "text/plain": [
       "      PRODUCTID                                              TITLE  \\\n",
       "0       1925202  ArtzFolio Tulip Flowers Blackout Curtain for D...   \n",
       "1       2673191  Marks & Spencer Girls' Pyjama Sets T86_2561C_N...   \n",
       "2       2765088  PRIKNIK Horn Red Electric Air Horn Compressor ...   \n",
       "3       1594019  ALISHAH Women's Cotton Ankle Length Leggings C...   \n",
       "4        283658  The United Empire Loyalists: A Chronicle of th...   \n",
       "...         ...                                                ...   \n",
       "3842      67078  Occupational Health and Safety: International ...   \n",
       "3843     653247                                Le duel introuvable   \n",
       "3844    1783479  ArtToFrames 27x39 Inch Black Picture Frame, Th...   \n",
       "3845     770603  The Ascension of Isaiah: translated from the E...   \n",
       "3846     112393                Crossings: Selected Travel Writings   \n",
       "\n",
       "                                          BULLET_POINTS  \\\n",
       "0     [LUXURIOUS & APPEALING: Beautiful custom-made ...   \n",
       "1     [Harry Potter Hedwig Pyjamas (6-16 Yrs),100% c...   \n",
       "2     [Loud Dual Tone Trumpet Horn, Compatible With ...   \n",
       "3     [Made By 95%cotton and 5% Lycra which gives yo...   \n",
       "4                                                   NaN   \n",
       "...                                                 ...   \n",
       "3842                                                NaN   \n",
       "3843                                                NaN   \n",
       "3844  [Comes with 060 Plexi Glass and a a wire hangi...   \n",
       "3845                                                NaN   \n",
       "3846                                                NaN   \n",
       "\n",
       "                                            DESCRIPTION  PRODUCTTYPEID  \\\n",
       "0                                                   NaN         1650.0   \n",
       "1                                                   NaN         2755.0   \n",
       "2     Specifications: Color: Red, Material: Aluminiu...         7537.0   \n",
       "3     AISHAH Women's Lycra Cotton Ankel Leggings. Br...         2996.0   \n",
       "4                                                   NaN         6112.0   \n",
       "...                                                 ...            ...   \n",
       "3842                                                NaN         6232.0   \n",
       "3843                                                NaN            1.0   \n",
       "3844  This black satin frame is our favorite gallery...         1590.0   \n",
       "3845                                                NaN         6104.0   \n",
       "3846                                                NaN        12320.0   \n",
       "\n",
       "      ProductLength  \n",
       "0       2125.980000  \n",
       "1        393.700000  \n",
       "2        748.031495  \n",
       "3        787.401574  \n",
       "4        598.424000  \n",
       "...             ...  \n",
       "3842     598.000000  \n",
       "3843     539.369000  \n",
       "3844    2900.000000  \n",
       "3845     550.000000  \n",
       "3846     600.000000  \n",
       "\n",
       "[3847 rows x 6 columns]"
      ]
     },
     "execution_count": 6,
     "metadata": {},
     "output_type": "execute_result"
    }
   ],
   "source": [
    "df"
   ]
  },
  {
   "cell_type": "code",
   "execution_count": 7,
   "id": "14c94136-12f7-4c34-bf7f-c9cc64ca2e22",
   "metadata": {},
   "outputs": [
    {
     "name": "stdout",
     "output_type": "stream",
     "text": [
      "\n",
      "Column Data Types:\n",
      "PRODUCTID          int64\n",
      "TITLE             object\n",
      "BULLET_POINTS     object\n",
      "DESCRIPTION       object\n",
      "PRODUCTTYPEID    float64\n",
      "ProductLength    float64\n",
      "dtype: object\n"
     ]
    }
   ],
   "source": [
    "# view the Data types\n",
    "print(\"\\nColumn Data Types:\")\n",
    "print(df.dtypes)"
   ]
  },
  {
   "cell_type": "code",
   "execution_count": 8,
   "id": "0057bc36-3ae4-4412-959e-d2d3aa709a61",
   "metadata": {},
   "outputs": [
    {
     "name": "stdout",
     "output_type": "stream",
     "text": [
      "Summary Statistics for Numerical Columns:\n",
      "          PRODUCTID  PRODUCTTYPEID  ProductLength\n",
      "count  3.847000e+03    3669.000000    3669.000000\n",
      "mean   1.456557e+06    3932.736986    1150.529020\n",
      "std    8.666684e+05    3970.908660    2665.897894\n",
      "min    1.303000e+03       0.000000       1.000000\n",
      "25%    6.922785e+05     154.000000     507.873000\n",
      "50%    1.441218e+06    2879.000000     640.000000\n",
      "75%    2.214798e+06    6337.000000    1023.622046\n",
      "max    2.999397e+06   13330.000000   96000.000000\n"
     ]
    }
   ],
   "source": [
    "# lets see a Summary of numerical columns\n",
    "print(\"Summary Statistics for Numerical Columns:\")\n",
    "print(df.describe())"
   ]
  },
  {
   "cell_type": "code",
   "execution_count": 9,
   "id": "35ab92fd",
   "metadata": {},
   "outputs": [
    {
     "name": "stdout",
     "output_type": "stream",
     "text": [
      "Duplicate Values:\n",
      "217\n"
     ]
    }
   ],
   "source": [
    "# First thing in data cleaning id to check for duplicates and handle them\n",
    "print(\"Duplicate Values:\")\n",
    "print(df.duplicated().sum())"
   ]
  },
  {
   "cell_type": "code",
   "execution_count": 10,
   "id": "8b3df85d",
   "metadata": {},
   "outputs": [],
   "source": [
    "# lets drop the duplicates\n",
    "df = df.drop_duplicates()"
   ]
  },
  {
   "cell_type": "code",
   "execution_count": 11,
   "id": "f55bc50f",
   "metadata": {},
   "outputs": [
    {
     "data": {
      "text/plain": [
       "(3630, 6)"
      ]
     },
     "execution_count": 11,
     "metadata": {},
     "output_type": "execute_result"
    }
   ],
   "source": [
    "df.shape"
   ]
  },
  {
   "cell_type": "code",
   "execution_count": 12,
   "id": "791125ce-70b7-428e-89ac-ef9f827be977",
   "metadata": {},
   "outputs": [
    {
     "name": "stdout",
     "output_type": "stream",
     "text": [
      "\n",
      "Missing Values per Column:\n",
      "PRODUCTID           0\n",
      "TITLE               0\n",
      "BULLET_POINTS    1452\n",
      "DESCRIPTION      1985\n",
      "PRODUCTTYPEID      89\n",
      "ProductLength      89\n",
      "dtype: int64\n"
     ]
    }
   ],
   "source": [
    "# lets check for Missing values \n",
    "print(\"\\nMissing Values per Column:\")\n",
    "print(df.isnull().sum())\n"
   ]
  },
  {
   "cell_type": "code",
   "execution_count": 13,
   "id": "3f3dc9ed",
   "metadata": {},
   "outputs": [
    {
     "name": "stdout",
     "output_type": "stream",
     "text": [
      "PRODUCTID        0\n",
      "TITLE            0\n",
      "BULLET_POINTS    0\n",
      "DESCRIPTION      0\n",
      "PRODUCTTYPEID    0\n",
      "ProductLength    0\n",
      "dtype: int64\n"
     ]
    },
    {
     "name": "stderr",
     "output_type": "stream",
     "text": [
      "C:\\Users\\User\\AppData\\Local\\Temp\\ipykernel_5236\\3221578610.py:3: SettingWithCopyWarning: \n",
      "A value is trying to be set on a copy of a slice from a DataFrame.\n",
      "Try using .loc[row_indexer,col_indexer] = value instead\n",
      "\n",
      "See the caveats in the documentation: https://pandas.pydata.org/pandas-docs/stable/user_guide/indexing.html#returning-a-view-versus-a-copy\n",
      "  df.fillna({\n"
     ]
    }
   ],
   "source": [
    "# lets handle missing values by filling them in as deleting rows can be risky\n",
    "# Fill missing description and bullet points with placeholder text\n",
    "df.fillna({\n",
    "    'DESCRIPTION': \"No description available\",\n",
    "    'BULLET_POINTS': \"No details available\",\n",
    "    'PRODUCTTYPEID': \"N/A\",\n",
    "    'ProductLength': \"N/A\"\n",
    "}, inplace=True)\n",
    "# Check if all missing values are handled\n",
    "print(df.isnull().sum())\n"
   ]
  },
  {
   "cell_type": "code",
   "execution_count": 14,
   "id": "2bf7cbed-4f98-40dd-84cb-a18b32e97471",
   "metadata": {},
   "outputs": [
    {
     "name": "stdout",
     "output_type": "stream",
     "text": [
      "\n",
      "Unique Values per Column:\n",
      "PRODUCTID        3541\n",
      "TITLE            3541\n",
      "BULLET_POINTS    2117\n",
      "DESCRIPTION      1610\n",
      "PRODUCTTYPEID    1279\n",
      "ProductLength     793\n",
      "dtype: int64\n"
     ]
    }
   ],
   "source": [
    "# Lets check for Unique values\n",
    "print(\"\\nUnique Values per Column:\")\n",
    "print(df.nunique())"
   ]
  },
  {
   "cell_type": "code",
   "execution_count": 15,
   "id": "1954f32a-dd07-46c5-94ae-4e5ae35f7171",
   "metadata": {},
   "outputs": [
    {
     "name": "stdout",
     "output_type": "stream",
     "text": [
      "Index(['product_id', 'title', 'bullet_points', 'description',\n",
      "       'product_type_id', 'product_length'],\n",
      "      dtype='object')\n"
     ]
    },
    {
     "name": "stderr",
     "output_type": "stream",
     "text": [
      "C:\\Users\\User\\AppData\\Local\\Temp\\ipykernel_5236\\2757879531.py:3: SettingWithCopyWarning: \n",
      "A value is trying to be set on a copy of a slice from a DataFrame\n",
      "\n",
      "See the caveats in the documentation: https://pandas.pydata.org/pandas-docs/stable/user_guide/indexing.html#returning-a-view-versus-a-copy\n",
      "  df.rename(columns={'ProductLength': 'product_length'}, inplace=True)\n",
      "C:\\Users\\User\\AppData\\Local\\Temp\\ipykernel_5236\\2757879531.py:4: SettingWithCopyWarning: \n",
      "A value is trying to be set on a copy of a slice from a DataFrame\n",
      "\n",
      "See the caveats in the documentation: https://pandas.pydata.org/pandas-docs/stable/user_guide/indexing.html#returning-a-view-versus-a-copy\n",
      "  df.rename(columns={'PRODUCTTYPEID': 'product_type_id'}, inplace=True)\n",
      "C:\\Users\\User\\AppData\\Local\\Temp\\ipykernel_5236\\2757879531.py:5: SettingWithCopyWarning: \n",
      "A value is trying to be set on a copy of a slice from a DataFrame\n",
      "\n",
      "See the caveats in the documentation: https://pandas.pydata.org/pandas-docs/stable/user_guide/indexing.html#returning-a-view-versus-a-copy\n",
      "  df.rename(columns={'PRODUCTID': 'Product_id'}, inplace=True)\n"
     ]
    }
   ],
   "source": [
    "# lets clean up the column names and make eaily readable\n",
    "# Standardize column names\n",
    "df.rename(columns={'ProductLength': 'product_length'}, inplace=True)\n",
    "df.rename(columns={'PRODUCTTYPEID': 'product_type_id'}, inplace=True)\n",
    "df.rename(columns={'PRODUCTID': 'Product_id'}, inplace=True)\n",
    "df.columns = df.columns.str.lower().str.replace(' ', '_')\n",
    "\n",
    "\n",
    "# Display new column names\n",
    "print(df.columns)"
   ]
  },
  {
   "cell_type": "code",
   "execution_count": 16,
   "id": "f2a1c170",
   "metadata": {},
   "outputs": [],
   "source": [
    "def clean_title(title):\n",
    "    if pd.isna(title):\n",
    "        return \"No title available\"\n",
    "    \n",
    "    # lets convert it to string\n",
    "    title = str(title)\n",
    "\n",
    "    # remove content within brackets\n",
    "    title = re.sub(r'\\[.*?]|\\(.*?\\)|\\{.*?\\}', '', title)\n",
    "\n",
    "    # remove any content after specific characters\n",
    "    title = re.split(r'[:\\]', title)[0]\n",
    "\n",
    "    # remove special characters but keep essential punctuations\n",
    "    title =  re.sub(r'[^\\w\\s&-]', '', title)\n",
    "\n",
    "    return title.strip()\n"
   ]
  },
  {
   "cell_type": "code",
   "execution_count": 17,
   "id": "6905a3f6",
   "metadata": {},
   "outputs": [
    {
     "name": "stderr",
     "output_type": "stream",
     "text": [
      "C:\\Users\\User\\AppData\\Local\\Temp\\ipykernel_5236\\4124071294.py:62: SettingWithCopyWarning: \n",
      "A value is trying to be set on a copy of a slice from a DataFrame.\n",
      "Try using .loc[row_indexer,col_indexer] = value instead\n",
      "\n",
      "See the caveats in the documentation: https://pandas.pydata.org/pandas-docs/stable/user_guide/indexing.html#returning-a-view-versus-a-copy\n",
      "  df['short_title'] = df['title'].apply(generate_short_title)\n"
     ]
    }
   ],
   "source": [
    "# Function to generate short title\n",
    "def generate_short_title(title):\n",
    "    # Clean the title first\n",
    "    cleaned_title = str(title).title()\n",
    "\n",
    "    # If the cleaned title is 15 characters or less, return it unchanged\n",
    "    if len(cleaned_title) <= 15:\n",
    "        return cleaned_title\n",
    "\n",
    "    # Split title into words\n",
    "    words = cleaned_title.split()\n",
    "\n",
    "    # Common words to remove\n",
    "    stop_words = {\n",
    "        'for', 'from', 'with', 'the', 'to', 'of', 'on', 'and', 'in', 'at', 'by',\n",
    "        'an', 'a', 'is', 'or', 'it', 'as', 'be', 'this', 'that', 'these', 'those',\n",
    "        'includes', 'including', 'feature', 'features', 'contains', 'containing',\n",
    "        'improved', 'enhanced', 'advanced', 'compact', 'durable', 'resistant',\n",
    "        'small', 'large', 'heavy', 'light', 'extra', 'new', 'latest',\n",
    "        'backed', 'backing', 'solid', 'metal', 'material', 'quality', 'grade', 'type', 'types',\n",
    "        'like', 'built', 'assembled', 'needed', 'used', 'essential',\n",
    "        'style', 'with', 'design', 'designed', 'pattern', 'patterns', 'wear', 'set', 'less', 'many', 'any', 'few',\n",
    "        'available', 'size', 'value', 'artisan', 'matched', 'ideal', 'has', 'items', 'product', 'products', 'goods', 'accessories',\n",
    "        'equipment', 'appliance', 'parts', 'component', 'components'\n",
    "    }\n",
    "\n",
    "    # Keep track of seen words (case-insensitive)\n",
    "    seen_words = set()\n",
    "    final_words = []\n",
    "\n",
    "    for word in words:\n",
    "        word_lower = word.lower()\n",
    "\n",
    "        # Skip stop words and numbers\n",
    "        if (word_lower in stop_words or\n",
    "            word.replace('.', '', 1).isdigit() or\n",
    "            any(c.isdigit() for c in word)):\n",
    "            continue\n",
    "\n",
    "        # Skip if we’ve seen this word before\n",
    "        if word_lower in seen_words:\n",
    "            continue\n",
    "\n",
    "        final_words.append(word)\n",
    "        seen_words.add(word_lower)\n",
    "\n",
    "        # Limit to first 3 significant words\n",
    "        if len(final_words) >= 3:\n",
    "            break\n",
    "\n",
    "    # Join words back together\n",
    "    short_title = ' '.join(final_words)\n",
    "\n",
    "    # If title is empty, return first word of original title\n",
    "    if not short_title and words:\n",
    "        short_title = words[0]\n",
    "\n",
    "    return short_title[:50].strip()\n",
    "\n",
    "\n",
    "# Apply the simplified title generation\n",
    "df['short_title'] = df['title'].apply(generate_short_title)\n"
   ]
  },
  {
   "cell_type": "code",
   "execution_count": 18,
   "id": "8fbc0f8e",
   "metadata": {},
   "outputs": [
    {
     "data": {
      "text/plain": [
       "0         Artzfolio Tulip Flowers\n",
       "1                 Marks & Spencer\n",
       "2                Priknik Horn Red\n",
       "3          Alishah Women'S Cotton\n",
       "4        United Empire Loyalists:\n",
       "                  ...            \n",
       "3651      Generic Chiffon Printed\n",
       "3652       Caught Act (Loveswept)\n",
       "3653    Globalnicheâ® Leather Car\n",
       "3654       Mountain Bigfoot Adult\n",
       "3655        Tales Cydonia: Volume\n",
       "Name: short_title, Length: 3630, dtype: object"
      ]
     },
     "execution_count": 18,
     "metadata": {},
     "output_type": "execute_result"
    }
   ],
   "source": [
    "df['short_title']"
   ]
  },
  {
   "cell_type": "code",
   "execution_count": 19,
   "id": "87e29fc2-95c7-4a16-82f4-698cd70eb286",
   "metadata": {},
   "outputs": [
    {
     "data": {
      "text/html": [
       "<div>\n",
       "<style scoped>\n",
       "    .dataframe tbody tr th:only-of-type {\n",
       "        vertical-align: middle;\n",
       "    }\n",
       "\n",
       "    .dataframe tbody tr th {\n",
       "        vertical-align: top;\n",
       "    }\n",
       "\n",
       "    .dataframe thead th {\n",
       "        text-align: right;\n",
       "    }\n",
       "</style>\n",
       "<table border=\"1\" class=\"dataframe\">\n",
       "  <thead>\n",
       "    <tr style=\"text-align: right;\">\n",
       "      <th></th>\n",
       "      <th>product_id</th>\n",
       "      <th>title</th>\n",
       "      <th>bullet_points</th>\n",
       "      <th>description</th>\n",
       "      <th>product_type_id</th>\n",
       "      <th>product_length</th>\n",
       "      <th>short_title</th>\n",
       "    </tr>\n",
       "  </thead>\n",
       "  <tbody>\n",
       "    <tr>\n",
       "      <th>0</th>\n",
       "      <td>1925202</td>\n",
       "      <td>ArtzFolio Tulip Flowers Blackout Curtain for D...</td>\n",
       "      <td>[LUXURIOUS &amp; APPEALING: Beautiful custom-made ...</td>\n",
       "      <td>No description available</td>\n",
       "      <td>1650.0</td>\n",
       "      <td>2125.98</td>\n",
       "      <td>Artzfolio Tulip Flowers</td>\n",
       "    </tr>\n",
       "    <tr>\n",
       "      <th>1</th>\n",
       "      <td>2673191</td>\n",
       "      <td>Marks &amp; Spencer Girls' Pyjama Sets T86_2561C_N...</td>\n",
       "      <td>[Harry Potter Hedwig Pyjamas (6-16 Yrs),100% c...</td>\n",
       "      <td>No description available</td>\n",
       "      <td>2755.0</td>\n",
       "      <td>393.7</td>\n",
       "      <td>Marks &amp; Spencer</td>\n",
       "    </tr>\n",
       "    <tr>\n",
       "      <th>2</th>\n",
       "      <td>2765088</td>\n",
       "      <td>PRIKNIK Horn Red Electric Air Horn Compressor ...</td>\n",
       "      <td>[Loud Dual Tone Trumpet Horn, Compatible With ...</td>\n",
       "      <td>Specifications: Color: Red, Material: Aluminiu...</td>\n",
       "      <td>7537.0</td>\n",
       "      <td>748.031495</td>\n",
       "      <td>Priknik Horn Red</td>\n",
       "    </tr>\n",
       "    <tr>\n",
       "      <th>3</th>\n",
       "      <td>1594019</td>\n",
       "      <td>ALISHAH Women's Cotton Ankle Length Leggings C...</td>\n",
       "      <td>[Made By 95%cotton and 5% Lycra which gives yo...</td>\n",
       "      <td>AISHAH Women's Lycra Cotton Ankel Leggings. Br...</td>\n",
       "      <td>2996.0</td>\n",
       "      <td>787.401574</td>\n",
       "      <td>Alishah Women'S Cotton</td>\n",
       "    </tr>\n",
       "    <tr>\n",
       "      <th>4</th>\n",
       "      <td>283658</td>\n",
       "      <td>The United Empire Loyalists: A Chronicle of th...</td>\n",
       "      <td>No details available</td>\n",
       "      <td>No description available</td>\n",
       "      <td>6112.0</td>\n",
       "      <td>598.424</td>\n",
       "      <td>United Empire Loyalists:</td>\n",
       "    </tr>\n",
       "  </tbody>\n",
       "</table>\n",
       "</div>"
      ],
      "text/plain": [
       "   product_id                                              title  \\\n",
       "0     1925202  ArtzFolio Tulip Flowers Blackout Curtain for D...   \n",
       "1     2673191  Marks & Spencer Girls' Pyjama Sets T86_2561C_N...   \n",
       "2     2765088  PRIKNIK Horn Red Electric Air Horn Compressor ...   \n",
       "3     1594019  ALISHAH Women's Cotton Ankle Length Leggings C...   \n",
       "4      283658  The United Empire Loyalists: A Chronicle of th...   \n",
       "\n",
       "                                       bullet_points  \\\n",
       "0  [LUXURIOUS & APPEALING: Beautiful custom-made ...   \n",
       "1  [Harry Potter Hedwig Pyjamas (6-16 Yrs),100% c...   \n",
       "2  [Loud Dual Tone Trumpet Horn, Compatible With ...   \n",
       "3  [Made By 95%cotton and 5% Lycra which gives yo...   \n",
       "4                               No details available   \n",
       "\n",
       "                                         description product_type_id  \\\n",
       "0                           No description available          1650.0   \n",
       "1                           No description available          2755.0   \n",
       "2  Specifications: Color: Red, Material: Aluminiu...          7537.0   \n",
       "3  AISHAH Women's Lycra Cotton Ankel Leggings. Br...          2996.0   \n",
       "4                           No description available          6112.0   \n",
       "\n",
       "  product_length               short_title  \n",
       "0        2125.98   Artzfolio Tulip Flowers  \n",
       "1          393.7           Marks & Spencer  \n",
       "2     748.031495          Priknik Horn Red  \n",
       "3     787.401574    Alishah Women'S Cotton  \n",
       "4        598.424  United Empire Loyalists:  "
      ]
     },
     "execution_count": 19,
     "metadata": {},
     "output_type": "execute_result"
    }
   ],
   "source": [
    "# lets see how our final table looks like \n",
    "df.head()"
   ]
  },
  {
   "cell_type": "code",
   "execution_count": 21,
   "id": "9addd1f7-17c0-4962-a6fd-4eacec4d5ac5",
   "metadata": {},
   "outputs": [],
   "source": [
    "#lets export our cleaned data\n",
    "df.to_csv(\"cleaned_product_data.csv\", index=False)  \n"
   ]
  },
  {
   "cell_type": "code",
   "execution_count": null,
   "id": "138e1caf-13bf-4977-90ea-49828caee6ab",
   "metadata": {},
   "outputs": [],
   "source": []
  }
 ],
 "metadata": {
  "kernelspec": {
   "display_name": "base",
   "language": "python",
   "name": "python3"
  },
  "language_info": {
   "codemirror_mode": {
    "name": "ipython",
    "version": 3
   },
   "file_extension": ".py",
   "mimetype": "text/x-python",
   "name": "python",
   "nbconvert_exporter": "python",
   "pygments_lexer": "ipython3",
   "version": "3.11.4"
  }
 },
 "nbformat": 4,
 "nbformat_minor": 5
}
